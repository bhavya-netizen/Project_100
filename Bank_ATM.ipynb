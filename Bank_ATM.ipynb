{
  "nbformat": 4,
  "nbformat_minor": 0,
  "metadata": {
    "colab": {
      "name": "Bank_ATM",
      "provenance": [],
      "collapsed_sections": [],
      "authorship_tag": "ABX9TyP4bDJQmAdCHRyCDMI+WE06",
      "include_colab_link": true
    },
    "kernelspec": {
      "name": "python3",
      "display_name": "Python 3"
    },
    "language_info": {
      "name": "python"
    }
  },
  "cells": [
    {
      "cell_type": "markdown",
      "metadata": {
        "id": "view-in-github",
        "colab_type": "text"
      },
      "source": [
        "<a href=\"https://colab.research.google.com/github/bhavya-netizen/Project_100/blob/main/Bank_ATM.ipynb\" target=\"_parent\"><img src=\"https://colab.research.google.com/assets/colab-badge.svg\" alt=\"Open In Colab\"/></a>"
      ]
    },
    {
      "cell_type": "code",
      "execution_count": 10,
      "metadata": {
        "colab": {
          "base_uri": "https://localhost:8080/"
        },
        "id": "yq4Uadn9s8-B",
        "outputId": "62e94956-c7ff-4bc0-eeb0-94c41f19eab1"
      },
      "outputs": [
        {
          "output_type": "stream",
          "name": "stdout",
          "text": [
            "Insert your card number:- 1\n",
            "Insert your pin number:- 123\n",
            "Choose one activity \n",
            "1. Balance Enquiry   2. Withdrawl\n",
            "Enter activity number :- 2\n",
            "Enter the amount :- 2000\n",
            "You have withdrawn amount Rs.2000   Your remaining balance is Rs.66000\n"
          ]
        }
      ],
      "source": [
        "class Atm:\n",
        "  def __init__(self, card_number, pin_number):\n",
        "    self.card_number = card_number\n",
        "    self.pin_number = pin_number\n",
        "\n",
        "  def balance_enquiry(self):\n",
        "    print(\"Your balance is 68000\")\n",
        "\n",
        "  def withdrawl(self, amount):\n",
        "    newAmount = 68000 - amount\n",
        "    print(\"You have withdrawn amount Rs. \"+ str(amount)+ \"   Your remaining balance is Rs. \" + str(newAmount))\n",
        "\n",
        "def main():\n",
        "  cardNumber = input(\"Insert your card number:- \")\n",
        "  pinNumber = input(\"Insert your pin number:- \")\n",
        "\n",
        "  new_user = Atm(cardNumber, pinNumber)\n",
        "\n",
        "  print(\"Choose one activity \")\n",
        "  print(\"1. Balance Enquiry   2. Withdrawl\")\n",
        "  activity = int(input(\"Enter activity number :- \"))\n",
        "\n",
        "  if(activity == 1):\n",
        "    new_user.balance_enquiry()\n",
        "\n",
        "  elif(activity == 2):\n",
        "    amount = int(input(\"Enter the amount :- \"))\n",
        "    new_user.withdrawl(amount)\n",
        "\n",
        "  else:\n",
        "    print(\"Enter a valid number\")\n",
        "\n",
        "if __name__ == '__main__':\n",
        "\tmain()"
      ]
    }
  ]
}